{
 "cells": [
  {
   "cell_type": "markdown",
   "id": "f2b4cf6e-569c-44c4-94b0-e5840bdee085",
   "metadata": {},
   "source": [
    "# 1-11: Modules\n",
    "\n",
    "So far, we have stuck to Python code that we've written ourselves, or functions built in to Python. But there's a wide universe of Python code out there to explore and take advantage of. We may even want to package some of our code the same way. That's why we need to understand Python **modules**.\n",
    "\n",
    "Simply put, modules are packages of Python code that we can **import** into our project or notebook.\n",
    "\n",
    "We'll begin with an out-of-the-box Python module, like `random`."
   ]
  },
  {
   "cell_type": "markdown",
   "id": "ecc18e1c-9a3b-4a6d-ab34-c8b89ae2ac40",
   "metadata": {},
   "source": [
    "## Syntax\n",
    "\n",
    "Python has plenty of additional modules, which you can review in the [Library Reference](https://docs.python.org/3/library/index.html). We'll play with `random` for the moment.\n",
    "\n",
    "To import an entire module, we can simply `import` the module name."
   ]
  },
  {
   "cell_type": "code",
   "execution_count": null,
   "id": "3eee3be6-bc7a-4fca-9dac-1d4ee229b93f",
   "metadata": {},
   "outputs": [],
   "source": [
    "# Import random\n",
    "import random\n",
    "\n",
    "# What's your deal, random?\n",
    "random?"
   ]
  },
  {
   "cell_type": "markdown",
   "id": "c0781adb-f78d-45e5-903a-e19ee4482c98",
   "metadata": {},
   "source": [
    "The `random` module is useful for, y'know, random stuff. Like random integers/floats, or even a random choice from a sequence.\n",
    "\n",
    "When the entire module is imported, its constants and functions reside under the `random` **namespace**. That means to access the `choice()` function, we would refer to `random.choice()`."
   ]
  },
  {
   "cell_type": "code",
   "execution_count": null,
   "id": "96f9433c-d45d-4ce1-a3f1-f1a6a32e6d91",
   "metadata": {},
   "outputs": [],
   "source": [
    "# A random, namespaced choice\n",
    "random.choice([\"Klingons\", \"Romulans\", \"Borg\", \"Oh my!\"])"
   ]
  },
  {
   "cell_type": "markdown",
   "id": "0076e5fa-f6d4-422e-93e0-467f6ae15e1f",
   "metadata": {},
   "source": [
    "And that's fine, but we may want to be more specific and less verbose with our imports. To do that, we can use the `from...import` syntax. Instead of importing everything, we just import what we want. When constants and functions are imported this way, they are not namespaced—instead, they are directly available."
   ]
  },
  {
   "cell_type": "code",
   "execution_count": null,
   "id": "720ff753-4e3a-4867-945a-d2bedce1bda3",
   "metadata": {},
   "outputs": [],
   "source": [
    "# Instead of importing everything, just get what we need.\n",
    "from random import choice\n",
    "\n",
    "# Look Ma! No namespace!\n",
    "choice([\"Klingons\", \"Romulans\", \"Borg\", \"Oh my!\"])"
   ]
  },
  {
   "cell_type": "markdown",
   "id": "5ecadbd2-049d-46db-affb-7c9c21cdd1b4",
   "metadata": {},
   "source": [
    "## Installing Modules\n",
    "\n",
    "As rad as Python is out of the box, odds are you're going to want to install somebody else's code eventually. It's not hard! In fact, you can even do it from directly within a Notebook if you want.\n",
    "\n",
    "This is kind of an aside, but a cool trick that Jupyter can do is executing shell commands from within a notebook. All it takes is prepending the command with a `!` (bang). Watch:"
   ]
  },
  {
   "cell_type": "code",
   "execution_count": null,
   "id": "cb6bd50e-2296-406b-8c2e-6575d46fe6b7",
   "metadata": {},
   "outputs": [],
   "source": [
    "# List the contents of our repo\n",
    "! ls ../"
   ]
  },
  {
   "cell_type": "code",
   "execution_count": null,
   "id": "2cee6872-75ce-4e5f-995e-bab7807c56c3",
   "metadata": {},
   "outputs": [],
   "source": [
    "# We can even save the result to a variable!\n",
    "stuff: list = ! ls ../\n",
    "stuff"
   ]
  },
  {
   "cell_type": "markdown",
   "id": "07977b1d-5773-4f89-a29f-87f91a0e1101",
   "metadata": {},
   "source": [
    "So that's amazing, right? More on that later. But for our purposes, that means we can install packages directly from notebooks using the `pip3` package manager. As an example, let's say we wanted to install the `requests` module for interacting with the web. We can simply enter `! pip3 install requests`"
   ]
  },
  {
   "cell_type": "code",
   "execution_count": null,
   "id": "a74ba0cf-c6f0-4087-ba14-57c624e4167e",
   "metadata": {},
   "outputs": [],
   "source": [
    "! pip3 install requests"
   ]
  },
  {
   "cell_type": "markdown",
   "id": "97167b7f-a351-4638-9ad1-cd3b3cfc0410",
   "metadata": {},
   "source": [
    "In our case it was already there, but the principle is sound. Once installed we can import whatever we need."
   ]
  },
  {
   "cell_type": "code",
   "execution_count": null,
   "id": "71a9e2a8-420c-4a94-8920-2c35dec8fe94",
   "metadata": {},
   "outputs": [],
   "source": [
    "# A very naive web request\n",
    "import requests\n",
    "\n",
    "r = requests.get(\"https://taggart-tech.com\")\n",
    "r.text"
   ]
  },
  {
   "cell_type": "markdown",
   "id": "05479180-1994-4dc4-b1f1-9054c781f9aa",
   "metadata": {},
   "source": [
    "## Creating Modules\n",
    "\n",
    "Not all our Python code has to live in the Notebook. In fact, it's probably a good idea that most utility functions, classes, etc. live elsewhere. A good rule of thumb is: if the code should be repeated by users on each run of the notebook, leave it in. If however, the code never changes and just needs to exist for the Notebook to work properly, get it out.\n",
    "\n",
    "The good news is, basic module creation is as simple as making a new `.py` file and chucking your code in there. You can them import with `import filename` without the extension. Just try not to use the same filename as a real module you'll also want to import, or a function you're already using. For example, do not under any circumstances make a `print.py` file. \n",
    "\n",
    "```python\n",
    "\n",
    "import print\n",
    "\n",
    "# Sure you have a stuff function in there, but AT WHAT COST?!\n",
    "print.stuff()\n",
    "\n",
    "print(\"This won't work now\")\n",
    "```\n",
    "\n",
    "You'll have a bad time."
   ]
  },
  {
   "cell_type": "markdown",
   "id": "bb59620b-892e-4125-9e6d-7aac5a140caa",
   "metadata": {},
   "source": [
    "### `__init__.py`\n",
    "\n",
    "Hey look! Dunders again! \n",
    "\n",
    "If you want to make a folder full of Python files but only import with a single statement, it can be helpful to use the [Package structure](https://docs.python.org/3/tutorial/modules.html#packages). There's a lot to this, but broadly, `__init__.py` inside a folder will allow you to group your Python files into a single import. It can also help structure subfolder for dot-notation import. \n",
    "\n",
    "But that's all a bit advanced. For now, let's stick to single-file imports.\n",
    "\n"
   ]
  },
  {
   "attachments": {
    "e85427c1-9d69-4841-a4d5-62456d2fd7a1.png": {
     "image/png": "[encoded data removed]"
    }
   },
   "cell_type": "markdown",
   "id": "3beb53b8-6ded-4fb0-884c-0f00db3f3bb0",
   "metadata": {},
   "source": [
    "## Check For Understanding Modularizing `Indicator`\n",
    "\n",
    "Hey remember our `Indicator` classes from last module? Those were the days. Anyway, to make that code more useful (and take up less space in our notebook), let's turn all that into a module. \n",
    "\n",
    "This begins your **Check For Understanding** for this lesson, so not a lot has been pregamed for you.\n",
    "\n",
    "### Objectives\n",
    "\n",
    "1. Create an `indicator.py` file in this directory. You can use the built-in editor in JupyterLab!\n",
    "\n",
    "![image.png](attachment:e85427c1-9d69-4841-a4d5-62456d2fd7a1.png)\n",
    "\n",
    "2. Copy the `Indicator` class and all the subclasses we built in the last lesson into that file. So you should have an `Indicator`, `URLIndicator`, `IPv4Indicator`, and `DomainIndicator` class in there.\n",
    "\n",
    "3. Run `testme()` to confirm you got everything in there."
   ]
  },
  {
   "cell_type": "code",
   "execution_count": null,
   "id": "7420bcf7-3430-45e3-b53b-30093e478bfe",
   "metadata": {},
   "outputs": [],
   "source": [
    "# Don't delete me!\n",
    "from testme import testme\n",
    "\n",
    "testme()"
   ]
  }
 ],
 "metadata": {
  "kernelspec": {
   "display_name": "Python 3 (ipykernel)",
   "language": "python",
   "name": "python3"
  },
  "language_info": {
   "codemirror_mode": {
    "name": "ipython",
    "version": 3
   },
   "file_extension": ".py",
   "mimetype": "text/x-python",
   "name": "python",
   "nbconvert_exporter": "python",
   "pygments_lexer": "ipython3",
   "version": "3.8.10"
  }
 },
 "nbformat": 4,
 "nbformat_minor": 5
}
