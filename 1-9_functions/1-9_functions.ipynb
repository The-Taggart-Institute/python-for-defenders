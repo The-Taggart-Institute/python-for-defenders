{
 "cells": [
  {
   "cell_type": "markdown",
   "id": "b5ce9de6-21ee-4804-b06b-4bd1b4fd228d",
   "metadata": {},
   "source": [
    "# 1-9: Functions\n",
    "\n",
    "Not gonna lie, functions are my favorite of the 4 Fundamental Structures of Programming. I just think they're neat!\n",
    "\n",
    "We've already taken advantage of functions. Anything with parens after it, like `print()`, is a function.\n",
    "\n",
    "Functions are reusable blocks of code that take inputs, known as **arguments** or **parameters** and **return** an output. \n",
    "\n",
    "What gets really cool is when we start putting functions together to transform data from one shape to another, to another, to anot—\n",
    "\n",
    "But I digress.\n",
    "\n",
    "In Jupyter Notebooks, functions play an important role of saving us a lot of repeated work. By defining a common operation once in a function, we save ourselves from having to write the same code in cell after cell."
   ]
  },
  {
   "cell_type": "markdown",
   "id": "bfa0b82d-dcac-4576-95fe-f5d738089618",
   "metadata": {},
   "source": [
    "## Syntax\n",
    "\n",
    "The keyword that begins a function is `def`, short for \"define.\" Then comes the function name, followed by parentheses. Inside the parens are comma-separated names of arguments. If the function takes no arguments, the parens stay empty. The whole thing is ended with a colon, just like a loop or conditional, and the **implementation** (code inside the function) is indented underneat the `def` line.\n",
    "\n",
    "We **call** the function by writing the function name, with parens, and placing any values inside that match what we want for our arguments.\n",
    "\n",
    "Let's check out a simple function."
   ]
  },
  {
   "cell_type": "code",
   "execution_count": 1,
   "id": "38a27899-6a10-4025-afff-07725b483487",
   "metadata": {},
   "outputs": [],
   "source": [
    "# Basic function without args\n",
    "def greet():\n",
    "    print(\"Hello, you!\")"
   ]
  },
  {
   "cell_type": "markdown",
   "id": "2fa43333-735a-46b9-8ee0-e1d9d64fabbc",
   "metadata": {},
   "source": [
    "Notice that nothing happened when we ran that cell. That's because the function has been _defined_, but not _called_. Let's do that now."
   ]
  },
  {
   "cell_type": "code",
   "execution_count": 2,
   "id": "1018fe5f-edae-4345-b423-ef9d25cacde3",
   "metadata": {},
   "outputs": [
    {
     "name": "stdout",
     "output_type": "stream",
     "text": [
      "Hello, you!\n"
     ]
    }
   ],
   "source": [
    "# Call greet()\n",
    "greet()"
   ]
  },
  {
   "cell_type": "markdown",
   "id": "710c34c5-2543-4c60-8914-2cfba92eefaf",
   "metadata": {},
   "source": [
    "Not very interesting, but you get the idea.\n",
    "\n",
    "Now let's add some arguments to our `greet()` function to make it slightly more useful."
   ]
  },
  {
   "cell_type": "code",
   "execution_count": 4,
   "id": "6c2a3e8e-8731-4246-837b-20f02c43ccb0",
   "metadata": {},
   "outputs": [],
   "source": [
    "# greet(): now with args! \n",
    "def greet(name):\n",
    "    print(f\"Hello, {name}!\")"
   ]
  },
  {
   "cell_type": "code",
   "execution_count": 5,
   "id": "e79a20fe-e482-4210-a331-7d426d5d991c",
   "metadata": {},
   "outputs": [
    {
     "name": "stdout",
     "output_type": "stream",
     "text": [
      "Hello, Taggart!\n"
     ]
    }
   ],
   "source": [
    "# Calling greet() with a name\n",
    "greet(\"Taggart\")"
   ]
  },
  {
   "cell_type": "markdown",
   "id": "1e35944e-d176-4235-84fb-afefd9c240c3",
   "metadata": {},
   "source": [
    "## Returns\n",
    "\n",
    "So far, our functions have had _side effects_, like printing something out, but they don't **return** anything. This is the true calling (get it?) of a function. Functions can and should return a value that can be used in a variable, a comparison, or even sent to other functions.\n",
    "\n",
    "Let's refactor `greet()` to follow this pattern, and use the `return` keyword."
   ]
  },
  {
   "cell_type": "code",
   "execution_count": 8,
   "id": "0954d2b2-505b-4677-8658-03a3996b5e05",
   "metadata": {},
   "outputs": [
    {
     "data": {
      "text/plain": [
       "['Hello, Alice!', 'Hello, Bob!', 'Hello, Cthulhu!', 'Hello, Dagon!']"
      ]
     },
     "execution_count": 8,
     "metadata": {},
     "output_type": "execute_result"
    }
   ],
   "source": [
    "# greet() but it returns \n",
    "def greet(name):\n",
    "    return f\"Hello, {name}!\"\n",
    "\n",
    "# Make a list of greetings\n",
    "\n",
    "names: list = [\"Alice\",\"Bob\",\"Cthulhu\",\"Dagon\"]\n",
    "\n",
    "# Use greet() for each name to make a list of greetings\n",
    "greetings: list = [ greet(n) for n in names ]\n",
    "greetings"
   ]
  },
  {
   "cell_type": "markdown",
   "id": "390284ec-5775-4b68-a9fb-f4150047c3f6",
   "metadata": {},
   "source": [
    "It's a little contrived, but the idea is that by returning the value, we can use the result of the function in any way we like, not just any activities within the function itself."
   ]
  },
  {
   "cell_type": "markdown",
   "id": "a08d52aa-23f1-4aa1-b029-8d94bf95207e",
   "metadata": {},
   "source": [
    "## Type Hinting\n",
    "\n",
    "You might have noticed that we didn't use any type hinting for the functions we've written so far. Remember that the type hints are entirely optional! However, we can use type hints with functions. Arguably, that's where they matter the most.  Type hints live in the arguments of a function, as well as after the argument parentheses, with another symbol: `->`, to indicate the return type.\n",
    "\n",
    "Let's minorly refactor our `greet()` function to use type hints."
   ]
  },
  {
   "cell_type": "code",
   "execution_count": 9,
   "id": "a3ff4a66-cc98-4e00-9110-3a105031137b",
   "metadata": {},
   "outputs": [],
   "source": [
    "# Adding type hints\n",
    "def greet(name: str) -> str:\n",
    "    return f\"Hello, {name}!\""
   ]
  },
  {
   "cell_type": "markdown",
   "id": "a9b0d96a-ab2d-4027-b0f6-65ed09e180d6",
   "metadata": {},
   "source": [
    "This may not make much of a difference at first, but being able to tell at a glance what data types a function takes and returns is incredibly valuable. Those pieces of information—data in and data out—are known as a function's **signature**. "
   ]
  },
  {
   "cell_type": "markdown",
   "id": "1a7cb985-8fe9-4070-8a24-48d38694e6d0",
   "metadata": {},
   "source": [
    "## Default Arguments\n",
    "\n",
    "In addition to providing arguments to functions, sometimes we may want to provide defaults in case no arguments are provided. We can do that too!"
   ]
  },
  {
   "cell_type": "code",
   "execution_count": 11,
   "id": "4d1d0bb0-cd09-4419-b116-76a0b01884e8",
   "metadata": {},
   "outputs": [
    {
     "data": {
      "text/plain": [
       "'Hello, You!'"
      ]
     },
     "execution_count": 11,
     "metadata": {},
     "output_type": "execute_result"
    }
   ],
   "source": [
    "# Syntax for default function args\n",
    "def greet(name: str = \"You\") -> str:\n",
    "    return f\"Hello, {name}!\"\n",
    "\n",
    "# Call greet without args\n",
    "greet()"
   ]
  },
  {
   "cell_type": "markdown",
   "id": "c62fe661-7529-4fc1-bd4e-4165919ffa7c",
   "metadata": {},
   "source": [
    "## Function Composition and Chaining\n",
    "\n",
    "Once you've mastered returning values from a single function, the next step is learning how to **compose** functions. This is when calls to one function are passed as arguments to another. It's probably easier to see in context.\n",
    "\n",
    "Let's write a small function to transform our names before sending them to `greet()`. Since we're all hackers here, we'll do a quick function to transform our names into L337. To do this, we're going to take advantage of a built-in `str` method: `replace()`.\n",
    "\n",
    "`replace()` takes two arguments: the pattern to replace, and what to replace it with. It returns a new string that has those replacements. Like so:"
   ]
  },
  {
   "cell_type": "code",
   "execution_count": 28,
   "id": "8ef5b75d-8721-43ab-8c4c-d80b7627a113",
   "metadata": {},
   "outputs": [
    {
     "data": {
      "text/plain": [
       "'Pyth0n'"
      ]
     },
     "execution_count": 28,
     "metadata": {},
     "output_type": "execute_result"
    }
   ],
   "source": [
    "\"Python\".replace(\"o\",\"0\")"
   ]
  },
  {
   "cell_type": "markdown",
   "id": "31569a12-347d-4198-b733-e06c197e3012",
   "metadata": {},
   "source": [
    "That's cool, but if we want to do multiple replacements, it seems as though we'd need to assign the new string to a variable and then repeatedly call `replace()` on that variable."
   ]
  },
  {
   "cell_type": "code",
   "execution_count": 34,
   "id": "907f3791-029b-42e4-8655-63f09fdfcd7d",
   "metadata": {},
   "outputs": [
    {
     "data": {
      "text/plain": [
       "'T3s7 s7r1ng'"
      ]
     },
     "execution_count": 34,
     "metadata": {},
     "output_type": "execute_result"
    }
   ],
   "source": [
    "l33t3d = \"Test string\"\n",
    "l33t3d = l33t3d.replace(\"e\",\"3\")\n",
    "l33t3d = l33t3d.replace(\"l\",\"|\")\n",
    "l33t3d = l33t3d.replace(\"t\",\"7\")\n",
    "l33t3d = l33t3d.replace(\"i\",\"1\")\n",
    "l33t3d"
   ]
  },
  {
   "cell_type": "markdown",
   "id": "4ce17bcb-2e84-4c68-989e-a0d6cc5196e6",
   "metadata": {},
   "source": [
    "And that works, but it's kind of unwieldy. This is part of why `return` is so important.\n",
    "\n",
    "Because `replace()` returns a value, we can continue to operate on that value after the parentheses just as though it were the original.\n",
    "\n",
    "What that means is that we can **chain** function calls together, one after another."
   ]
  },
  {
   "cell_type": "code",
   "execution_count": 36,
   "id": "2ec329d9-fa61-4e4e-9053-c1b5a85f0430",
   "metadata": {},
   "outputs": [
    {
     "data": {
      "text/plain": [
       "'T3s7 s7r1ng'"
      ]
     },
     "execution_count": 36,
     "metadata": {},
     "output_type": "execute_result"
    }
   ],
   "source": [
    "# Chaining functions together\n",
    "\"Test string\".replace(\"e\",\"3\").replace(\"l\",\"|\").replace(\"t\",\"7\").replace(\"i\",\"1\")"
   ]
  },
  {
   "cell_type": "markdown",
   "id": "a14e272a-a89d-4004-9698-b3ef6a86d899",
   "metadata": {},
   "source": [
    "Finally, there's a nice syntactical flourish we can use to split these calls into separate lines, using backslashes. Let's put this all together to create our function."
   ]
  },
  {
   "cell_type": "code",
   "execution_count": 44,
   "id": "ae1a482e-df6b-48d0-b7e2-b59da4c967f4",
   "metadata": {},
   "outputs": [],
   "source": [
    "# Functionify our conversion\n",
    "# Note the nice clean backslashes rather than one long mess of code\n",
    "def l33t(name: str) -> str:\n",
    "    return name \\\n",
    "        .replace(\"e\",\"3\") \\\n",
    "        .replace(\"a\",\"4\") \\\n",
    "        .replace(\"l\",\"|\") \\\n",
    "        .replace(\"t\",\"7\") \\\n",
    "        .replace(\"i\",\"1\") \\\n",
    "        .replace(\"o\",\"0\")"
   ]
  },
  {
   "cell_type": "code",
   "execution_count": 41,
   "id": "e4dc4efa-b27e-469f-a70f-8322189beb05",
   "metadata": {},
   "outputs": [
    {
     "data": {
      "text/plain": [
       "'T3s7 s7r1ng'"
      ]
     },
     "execution_count": 41,
     "metadata": {},
     "output_type": "execute_result"
    }
   ],
   "source": [
    "l33t(\"Test string\")"
   ]
  },
  {
   "cell_type": "markdown",
   "id": "f9f89a2f-0476-416a-9ace-6afbed17c982",
   "metadata": {},
   "source": [
    "Now that we have a working function, we can greet folks with l337. To do this we'll remake our list with a list comprehension and 2 functions nested inside each other, showing how composition can make functions even more powerful."
   ]
  },
  {
   "cell_type": "code",
   "execution_count": 47,
   "id": "0af4a2ff-2516-425a-9fa2-dcf15754548c",
   "metadata": {},
   "outputs": [
    {
     "data": {
      "text/plain": [
       "['Hello, A|1c3!', 'Hello, B0b!', 'Hello, C7hu|hu!', 'Hello, D4g0n!']"
      ]
     },
     "execution_count": 47,
     "metadata": {},
     "output_type": "execute_result"
    }
   ],
   "source": [
    "# Compose l337() with greet()\n",
    "l33tings: list = [ greet(l33t(n)) for n in names ]\n",
    "l33tings"
   ]
  },
  {
   "cell_type": "markdown",
   "id": "b5345138-bf28-49eb-9c65-44119368f3a7",
   "metadata": {},
   "source": [
    "## Check For Understanding: \n",
    "\n",
    "Time to write your own function. Remember the password policy from 1-7? Let's functionalize it.\n",
    "\n",
    "## Objectives\n",
    "\n",
    "1. Write a function called `valid_password()` that takes a single `str` argument and validates it against our password policy. If the password is valid, the function returns `True`. If it fails, it returns `False`.\n",
    "2. Send the policy function (without parens) to `testme()`. Yes, you can pass functions as arguments!\n"
   ]
  },
  {
   "cell_type": "code",
   "execution_count": null,
   "id": "7c269cd0-7e78-4d05-ac9b-68c41a9b7a19",
   "metadata": {},
   "outputs": [],
   "source": [
    "# Don't delete this line!\n",
    "from testme import *\n",
    "\n",
    "# Write your password validator function\n",
    "def ____():\n",
    "    pass\n",
    "\n",
    "\n",
    "testme(_)\n"
   ]
  }
 ],
 "metadata": {
  "kernelspec": {
   "display_name": "Python 3 (ipykernel)",
   "language": "python",
   "name": "python3"
  },
  "language_info": {
   "codemirror_mode": {
    "name": "ipython",
    "version": 3
   },
   "file_extension": ".py",
   "mimetype": "text/x-python",
   "name": "python",
   "nbconvert_exporter": "python",
   "pygments_lexer": "ipython3",
   "version": "3.8.10"
  }
 },
 "nbformat": 4,
 "nbformat_minor": 5
}
